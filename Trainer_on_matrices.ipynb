{
 "cells": [
  {
   "cell_type": "code",
   "execution_count": 1,
   "metadata": {},
   "outputs": [],
   "source": [
    "import os\n",
    "os.environ['CUDA_VISIBLE_DEVICES'] = '1'"
   ]
  },
  {
   "cell_type": "code",
   "execution_count": 2,
   "metadata": {},
   "outputs": [],
   "source": [
    "import numpy as np\n",
    "import torch\n",
    "import torch.nn as nn\n",
    "import pickle\n",
    "import pandas as pd\n",
    "\n",
    "from torch.utils.data import DataLoader\n",
    "from sklearn.model_selection import train_test_split \n",
    "from tqdm import tqdm\n",
    "import torch.optim as optim\n",
    "\n",
    "from utils.models import CNN, MLP, DeepCNN\n",
    "from utils.train_val_test import train_epoch, test, display_losses\n",
    "from utils.dataset import MatricesDataset\n"
   ]
  },
  {
   "cell_type": "code",
   "execution_count": 22,
   "metadata": {},
   "outputs": [],
   "source": [
    "config = {\n",
    "    'dataset':{\n",
    "        'target_name': 'h11',\n",
    "        'class_label': 'original',\n",
    "        'capacity': 'full',\n",
    "        'test_size': 0.3,\n",
    "        'train_batch': 16000,\n",
    "        'validation_batch': 16000,\n",
    "        'test_batch': 16000,\n",
    "    },\n",
    "    'model':{\n",
    "        'device': 'cuda',\n",
    "        'name': 'DeepCNN'\n",
    "    },\n",
    "    'train':{\n",
    "        'num_epochs': 40,\n",
    "        'learning_rate': 1e-3,\n",
    "    },\n",
    "    'MLP':{\n",
    "        'input_size': 320,\n",
    "        'hidden_size_1': 1024,\n",
    "        'hidden_size_2': 512,\n",
    "        'output_size': 1,\n",
    "        'dropout': 0.2\n",
    "    }\n",
    "}"
   ]
  },
  {
   "cell_type": "markdown",
   "metadata": {},
   "source": [
    "# Dataset"
   ]
  },
  {
   "cell_type": "code",
   "execution_count": 23,
   "metadata": {},
   "outputs": [],
   "source": [
    "with open('data/padded_matrices', 'rb') as f:\n",
    "    matrices = pickle.load(f)\n",
    "\n",
    "df = pd.read_csv('data/cicy4folds_extended.csv')\n",
    "df = df.replace('Null', np.nan)\n",
    "nan_indeces = df.index[df.isna().any(axis=1)].tolist()\n",
    "\n",
    "df_clear = df.drop(nan_indeces)\n",
    "matrices_clear = np.delete(matrices, nan_indeces, axis=0)\n",
    "\n",
    "assert len(df_clear)==len(matrices_clear)"
   ]
  },
  {
   "cell_type": "code",
   "execution_count": 24,
   "metadata": {},
   "outputs": [],
   "source": [
    "df_train, df_test_validate, matrices_train, matrices_test_validate = train_test_split(df_clear, matrices_clear, test_size=config['dataset']['test_size'], shuffle=True)\n",
    "df_test, df_validate, matrices_test, matrices_validate = train_test_split(df_test_validate, matrices_test_validate, test_size=config['dataset']['test_size'], shuffle=True)"
   ]
  },
  {
   "cell_type": "code",
   "execution_count": 25,
   "metadata": {},
   "outputs": [],
   "source": [
    "train_ds = MatricesDataset(df_train, matrices_train, config['dataset']['target_name'])\n",
    "validate_ds = MatricesDataset(df_validate, matrices_validate, config['dataset']['target_name'])\n",
    "test_ds = MatricesDataset(df_test, matrices_test, config['dataset']['target_name'])\n",
    "\n",
    "train_dataloader = DataLoader(train_ds, batch_size=config['dataset']['train_batch'])\n",
    "test_dataloader = DataLoader(test_ds, batch_size=config['dataset']['test_batch'])\n",
    "validate_dataloader = DataLoader(validate_ds, batch_size=config['dataset']['validation_batch'])"
   ]
  },
  {
   "cell_type": "markdown",
   "metadata": {},
   "source": [
    "# Model"
   ]
  },
  {
   "cell_type": "code",
   "execution_count": 26,
   "metadata": {},
   "outputs": [],
   "source": [
    "if (config['model']['name']=='CNN'):\n",
    "    model = CNN().to(config['model']['device'])\n",
    "elif (config['model']['name']=='MLP'):\n",
    "    model = MLP(config).to(config['model']['device'])\n",
    "elif (config['model']['name']=='DeepCNN'):\n",
    "    model = DeepCNN().to(config['model']['device'])\n",
    "else:\n",
    "    raise NameError(f\"There isn't model with name {config['model']['name']}\")\n",
    "\n",
    "criterion = nn.MSELoss()\n",
    "optimizer = optim.AdamW(model.parameters(), config['train']['learning_rate'])"
   ]
  },
  {
   "cell_type": "code",
   "execution_count": 27,
   "metadata": {},
   "outputs": [
    {
     "name": "stderr",
     "output_type": "stream",
     "text": [
      "  2%|█▋                                                                 | 1/40 [01:26<56:18, 86.63s/it]"
     ]
    },
    {
     "name": "stdout",
     "output_type": "stream",
     "text": [
      "1: loss on train: 29.9613, loss on validation: 4.2707\n"
     ]
    },
    {
     "name": "stderr",
     "output_type": "stream",
     "text": [
      "  5%|███▎                                                               | 2/40 [02:54<55:14, 87.22s/it]"
     ]
    },
    {
     "name": "stdout",
     "output_type": "stream",
     "text": [
      "2: loss on train: 3.3962, loss on validation: 3.0830\n"
     ]
    },
    {
     "name": "stderr",
     "output_type": "stream",
     "text": [
      "  8%|█████                                                              | 3/40 [04:21<53:53, 87.39s/it]"
     ]
    },
    {
     "name": "stdout",
     "output_type": "stream",
     "text": [
      "3: loss on train: 2.9712, loss on validation: 2.8393\n"
     ]
    },
    {
     "name": "stderr",
     "output_type": "stream",
     "text": [
      " 10%|██████▋                                                            | 4/40 [05:49<52:26, 87.40s/it]"
     ]
    },
    {
     "name": "stdout",
     "output_type": "stream",
     "text": [
      "4: loss on train: 2.6977, loss on validation: 2.5363\n"
     ]
    },
    {
     "name": "stderr",
     "output_type": "stream",
     "text": [
      " 12%|████████▍                                                          | 5/40 [07:16<50:59, 87.40s/it]"
     ]
    },
    {
     "name": "stdout",
     "output_type": "stream",
     "text": [
      "5: loss on train: 2.2773, loss on validation: 1.9987\n"
     ]
    },
    {
     "name": "stderr",
     "output_type": "stream",
     "text": [
      " 15%|██████████                                                         | 6/40 [08:44<49:35, 87.53s/it]"
     ]
    },
    {
     "name": "stdout",
     "output_type": "stream",
     "text": [
      "6: loss on train: 1.8847, loss on validation: 1.7796\n"
     ]
    },
    {
     "name": "stderr",
     "output_type": "stream",
     "text": [
      " 18%|███████████▋                                                       | 7/40 [10:12<48:10, 87.60s/it]"
     ]
    },
    {
     "name": "stdout",
     "output_type": "stream",
     "text": [
      "7: loss on train: 1.7393, loss on validation: 1.6738\n"
     ]
    },
    {
     "name": "stderr",
     "output_type": "stream",
     "text": [
      " 20%|█████████████▍                                                     | 8/40 [11:39<46:42, 87.58s/it]"
     ]
    },
    {
     "name": "stdout",
     "output_type": "stream",
     "text": [
      "8: loss on train: 1.6461, loss on validation: 1.5912\n"
     ]
    },
    {
     "name": "stderr",
     "output_type": "stream",
     "text": [
      " 22%|███████████████                                                    | 9/40 [13:07<45:15, 87.60s/it]"
     ]
    },
    {
     "name": "stdout",
     "output_type": "stream",
     "text": [
      "9: loss on train: 1.5686, loss on validation: 1.5427\n"
     ]
    },
    {
     "name": "stderr",
     "output_type": "stream",
     "text": [
      " 25%|████████████████▌                                                 | 10/40 [14:34<43:45, 87.51s/it]"
     ]
    },
    {
     "name": "stdout",
     "output_type": "stream",
     "text": [
      "10: loss on train: 1.5066, loss on validation: 1.4728\n"
     ]
    },
    {
     "name": "stderr",
     "output_type": "stream",
     "text": [
      " 28%|██████████████████▏                                               | 11/40 [16:02<42:20, 87.62s/it]"
     ]
    },
    {
     "name": "stdout",
     "output_type": "stream",
     "text": [
      "11: loss on train: 1.4577, loss on validation: 1.4089\n"
     ]
    },
    {
     "name": "stderr",
     "output_type": "stream",
     "text": [
      " 30%|███████████████████▊                                              | 12/40 [17:29<40:49, 87.47s/it]"
     ]
    },
    {
     "name": "stdout",
     "output_type": "stream",
     "text": [
      "12: loss on train: 1.4139, loss on validation: 1.4014\n"
     ]
    },
    {
     "name": "stderr",
     "output_type": "stream",
     "text": [
      " 32%|█████████████████████▍                                            | 13/40 [18:57<39:21, 87.47s/it]"
     ]
    },
    {
     "name": "stdout",
     "output_type": "stream",
     "text": [
      "13: loss on train: 1.3838, loss on validation: 1.3605\n"
     ]
    },
    {
     "name": "stderr",
     "output_type": "stream",
     "text": [
      " 35%|███████████████████████                                           | 14/40 [20:24<37:53, 87.43s/it]"
     ]
    },
    {
     "name": "stdout",
     "output_type": "stream",
     "text": [
      "14: loss on train: 1.3282, loss on validation: 1.2667\n"
     ]
    },
    {
     "name": "stderr",
     "output_type": "stream",
     "text": [
      " 38%|████████████████████████▊                                         | 15/40 [21:52<36:26, 87.47s/it]"
     ]
    },
    {
     "name": "stdout",
     "output_type": "stream",
     "text": [
      "15: loss on train: 1.2725, loss on validation: 1.2843\n"
     ]
    },
    {
     "name": "stderr",
     "output_type": "stream",
     "text": [
      " 40%|██████████████████████████▍                                       | 16/40 [23:19<34:57, 87.41s/it]"
     ]
    },
    {
     "name": "stdout",
     "output_type": "stream",
     "text": [
      "16: loss on train: 1.2299, loss on validation: 1.2276\n"
     ]
    },
    {
     "name": "stderr",
     "output_type": "stream",
     "text": [
      " 42%|████████████████████████████                                      | 17/40 [24:46<33:27, 87.30s/it]"
     ]
    },
    {
     "name": "stdout",
     "output_type": "stream",
     "text": [
      "17: loss on train: 1.1949, loss on validation: 1.1970\n"
     ]
    },
    {
     "name": "stderr",
     "output_type": "stream",
     "text": [
      " 45%|█████████████████████████████▋                                    | 18/40 [26:13<31:59, 87.26s/it]"
     ]
    },
    {
     "name": "stdout",
     "output_type": "stream",
     "text": [
      "18: loss on train: 1.2153, loss on validation: 1.1327\n"
     ]
    },
    {
     "name": "stderr",
     "output_type": "stream",
     "text": [
      " 48%|███████████████████████████████▎                                  | 19/40 [27:40<30:33, 87.32s/it]"
     ]
    },
    {
     "name": "stdout",
     "output_type": "stream",
     "text": [
      "19: loss on train: 1.1377, loss on validation: 1.1893\n"
     ]
    },
    {
     "name": "stderr",
     "output_type": "stream",
     "text": [
      " 50%|█████████████████████████████████                                 | 20/40 [29:08<29:07, 87.35s/it]"
     ]
    },
    {
     "name": "stdout",
     "output_type": "stream",
     "text": [
      "20: loss on train: 1.1620, loss on validation: 1.1476\n"
     ]
    },
    {
     "name": "stderr",
     "output_type": "stream",
     "text": [
      " 52%|██████████████████████████████████▋                               | 21/40 [30:35<27:40, 87.38s/it]"
     ]
    },
    {
     "name": "stdout",
     "output_type": "stream",
     "text": [
      "21: loss on train: 1.1018, loss on validation: 1.0574\n"
     ]
    },
    {
     "name": "stderr",
     "output_type": "stream",
     "text": [
      " 55%|████████████████████████████████████▎                             | 22/40 [32:03<26:12, 87.34s/it]"
     ]
    },
    {
     "name": "stdout",
     "output_type": "stream",
     "text": [
      "22: loss on train: 1.1295, loss on validation: 1.1297\n"
     ]
    },
    {
     "name": "stderr",
     "output_type": "stream",
     "text": [
      " 57%|█████████████████████████████████████▉                            | 23/40 [33:30<24:44, 87.33s/it]"
     ]
    },
    {
     "name": "stdout",
     "output_type": "stream",
     "text": [
      "23: loss on train: 1.0605, loss on validation: 1.0230\n"
     ]
    },
    {
     "name": "stderr",
     "output_type": "stream",
     "text": [
      " 60%|███████████████████████████████████████▌                          | 24/40 [34:57<23:16, 87.26s/it]"
     ]
    },
    {
     "name": "stdout",
     "output_type": "stream",
     "text": [
      "24: loss on train: 1.0912, loss on validation: 1.0522\n"
     ]
    },
    {
     "name": "stderr",
     "output_type": "stream",
     "text": [
      " 62%|█████████████████████████████████████████▎                        | 25/40 [36:24<21:49, 87.27s/it]"
     ]
    },
    {
     "name": "stdout",
     "output_type": "stream",
     "text": [
      "25: loss on train: 1.0390, loss on validation: 0.9932\n"
     ]
    },
    {
     "name": "stderr",
     "output_type": "stream",
     "text": [
      " 65%|██████████████████████████████████████████▉                       | 26/40 [37:52<20:23, 87.36s/it]"
     ]
    },
    {
     "name": "stdout",
     "output_type": "stream",
     "text": [
      "26: loss on train: 1.0301, loss on validation: 0.9708\n"
     ]
    },
    {
     "name": "stderr",
     "output_type": "stream",
     "text": [
      " 68%|████████████████████████████████████████████▌                     | 27/40 [39:19<18:56, 87.41s/it]"
     ]
    },
    {
     "name": "stdout",
     "output_type": "stream",
     "text": [
      "27: loss on train: 1.0112, loss on validation: 0.9450\n"
     ]
    },
    {
     "name": "stderr",
     "output_type": "stream",
     "text": [
      " 70%|██████████████████████████████████████████████▏                   | 28/40 [40:47<17:28, 87.37s/it]"
     ]
    },
    {
     "name": "stdout",
     "output_type": "stream",
     "text": [
      "28: loss on train: 1.0170, loss on validation: 0.9369\n"
     ]
    },
    {
     "name": "stderr",
     "output_type": "stream",
     "text": [
      " 72%|███████████████████████████████████████████████▊                  | 29/40 [42:16<16:05, 87.82s/it]"
     ]
    },
    {
     "name": "stdout",
     "output_type": "stream",
     "text": [
      "29: loss on train: 0.9657, loss on validation: 1.0243\n"
     ]
    },
    {
     "name": "stderr",
     "output_type": "stream",
     "text": [
      " 75%|█████████████████████████████████████████████████▌                | 30/40 [43:43<14:36, 87.61s/it]"
     ]
    },
    {
     "name": "stdout",
     "output_type": "stream",
     "text": [
      "30: loss on train: 0.9982, loss on validation: 0.9262\n"
     ]
    },
    {
     "name": "stderr",
     "output_type": "stream",
     "text": [
      " 78%|███████████████████████████████████████████████████▏              | 31/40 [45:10<13:07, 87.50s/it]"
     ]
    },
    {
     "name": "stdout",
     "output_type": "stream",
     "text": [
      "31: loss on train: 0.9403, loss on validation: 0.8946\n"
     ]
    },
    {
     "name": "stderr",
     "output_type": "stream",
     "text": [
      " 80%|████████████████████████████████████████████████████▊             | 32/40 [46:37<11:40, 87.51s/it]"
     ]
    },
    {
     "name": "stdout",
     "output_type": "stream",
     "text": [
      "32: loss on train: 0.9283, loss on validation: 0.8667\n"
     ]
    },
    {
     "name": "stderr",
     "output_type": "stream",
     "text": [
      " 82%|██████████████████████████████████████████████████████▍           | 33/40 [48:05<10:12, 87.52s/it]"
     ]
    },
    {
     "name": "stdout",
     "output_type": "stream",
     "text": [
      "33: loss on train: 0.9245, loss on validation: 0.8658\n"
     ]
    },
    {
     "name": "stderr",
     "output_type": "stream",
     "text": [
      " 85%|████████████████████████████████████████████████████████          | 34/40 [49:32<08:44, 87.39s/it]"
     ]
    },
    {
     "name": "stdout",
     "output_type": "stream",
     "text": [
      "34: loss on train: 0.9031, loss on validation: 0.8325\n"
     ]
    },
    {
     "name": "stderr",
     "output_type": "stream",
     "text": [
      " 88%|█████████████████████████████████████████████████████████▊        | 35/40 [50:59<07:16, 87.37s/it]"
     ]
    },
    {
     "name": "stdout",
     "output_type": "stream",
     "text": [
      "35: loss on train: 0.8970, loss on validation: 0.8687\n"
     ]
    },
    {
     "name": "stderr",
     "output_type": "stream",
     "text": [
      " 90%|███████████████████████████████████████████████████████████▍      | 36/40 [52:27<05:49, 87.39s/it]"
     ]
    },
    {
     "name": "stdout",
     "output_type": "stream",
     "text": [
      "36: loss on train: 0.8719, loss on validation: 0.8237\n"
     ]
    },
    {
     "name": "stderr",
     "output_type": "stream",
     "text": [
      " 92%|█████████████████████████████████████████████████████████████     | 37/40 [53:54<04:22, 87.43s/it]"
     ]
    },
    {
     "name": "stdout",
     "output_type": "stream",
     "text": [
      "37: loss on train: 0.8628, loss on validation: 0.8407\n"
     ]
    },
    {
     "name": "stderr",
     "output_type": "stream",
     "text": [
      " 95%|██████████████████████████████████████████████████████████████▋   | 38/40 [55:22<02:54, 87.49s/it]"
     ]
    },
    {
     "name": "stdout",
     "output_type": "stream",
     "text": [
      "38: loss on train: 0.8354, loss on validation: 0.7848\n"
     ]
    },
    {
     "name": "stderr",
     "output_type": "stream",
     "text": [
      " 98%|████████████████████████████████████████████████████████████████▎ | 39/40 [56:50<01:27, 87.57s/it]"
     ]
    },
    {
     "name": "stdout",
     "output_type": "stream",
     "text": [
      "39: loss on train: 0.8323, loss on validation: 0.7702\n"
     ]
    },
    {
     "name": "stderr",
     "output_type": "stream",
     "text": [
      "100%|██████████████████████████████████████████████████████████████████| 40/40 [58:21<00:00, 87.54s/it]"
     ]
    },
    {
     "name": "stdout",
     "output_type": "stream",
     "text": [
      "40: loss on train: 0.8184, loss on validation: 0.7714\n"
     ]
    },
    {
     "name": "stderr",
     "output_type": "stream",
     "text": [
      "\n"
     ]
    }
   ],
   "source": [
    "train_loss = []\n",
    "val_loss = []\n",
    "for epoch in tqdm(range(config['train']['num_epochs'])):\n",
    "    losses = train_epoch(model, optimizer, criterion, train_dataloader, validate_dataloader, config)\n",
    "    print(f\"{epoch+1}: loss on train: {losses['train_loss']:.4f}, loss on validation: {losses['validation_loss']:.4f}\")\n",
    "    train_loss.append(losses['train_loss'])\n",
    "    val_loss.append(losses['validation_loss'])\n",
    "torch.save(model.state_dict(), f\"models/{config['model']['name']}_for_{config['dataset']['target_name']}.pth\")"
   ]
  },
  {
   "cell_type": "code",
   "execution_count": 28,
   "metadata": {},
   "outputs": [
    {
     "data": {
      "image/png": "[encoded data removed]",
      "text/plain": [
       "<Figure size 640x480 with 1 Axes>"
      ]
     },
     "metadata": {},
     "output_type": "display_data"
    }
   ],
   "source": [
    "display_losses(train_loss, val_loss, config)"
   ]
  },
  {
   "cell_type": "markdown",
   "metadata": {},
   "source": [
    "# Evaluation"
   ]
  },
  {
   "cell_type": "code",
   "execution_count": 29,
   "metadata": {},
   "outputs": [
    {
     "data": {
      "text/plain": [
       "<All keys matched successfully>"
      ]
     },
     "execution_count": 29,
     "metadata": {},
     "output_type": "execute_result"
    }
   ],
   "source": [
    "model.load_state_dict(torch.load(f\"models/{config['model']['name']}_for_{config['dataset']['target_name']}.pth\"))"
   ]
  },
  {
   "cell_type": "code",
   "execution_count": 30,
   "metadata": {},
   "outputs": [
    {
     "name": "stderr",
     "output_type": "stream",
     "text": [
      "100%|██████████████████████████████████████████████████████████████████| 12/12 [00:23<00:00,  1.94s/it]"
     ]
    },
    {
     "name": "stdout",
     "output_type": "stream",
     "text": [
      "loss on test: 0.783, accuracy on test: 61.82%\n"
     ]
    },
    {
     "name": "stderr",
     "output_type": "stream",
     "text": [
      "\n"
     ]
    }
   ],
   "source": [
    "test_metrics = test(model, criterion, test_dataloader, config)\n",
    "print(f\"loss on test: {test_metrics['test_loss']:.3f}, accuracy on test: {test_metrics['test_accuracy']*100:.2f}%\")"
   ]
  },
  {
   "cell_type": "code",
   "execution_count": 33,
   "metadata": {},
   "outputs": [],
   "source": [
    "#new_dataframe_result = pd.DataFrame(columns=['h11', 'h21', 'h31', 'h22'], index=['CNN', 'MLP', 'DeepCNN'])\n",
    "#dataframe_result.to_csv(f\"results/{config['dataset']['class_label']}_{config['dataset']['capacity']}_dataset.csv\")"
   ]
  },
  {
   "cell_type": "code",
   "execution_count": 85,
   "metadata": {},
   "outputs": [
    {
     "data": {
      "text/html": [
       "<div>\n",
       "<style scoped>\n",
       "    .dataframe tbody tr th:only-of-type {\n",
       "        vertical-align: middle;\n",
       "    }\n",
       "\n",
       "    .dataframe tbody tr th {\n",
       "        vertical-align: top;\n",
       "    }\n",
       "\n",
       "    .dataframe thead th {\n",
       "        text-align: right;\n",
       "    }\n",
       "</style>\n",
       "<table border=\"1\" class=\"dataframe\">\n",
       "  <thead>\n",
       "    <tr style=\"text-align: right;\">\n",
       "      <th></th>\n",
       "      <th>h11</th>\n",
       "      <th>h21</th>\n",
       "      <th>h31</th>\n",
       "      <th>h22</th>\n",
       "    </tr>\n",
       "  </thead>\n",
       "  <tbody>\n",
       "    <tr>\n",
       "      <th>CNN</th>\n",
       "      <td>0.702</td>\n",
       "      <td>0.632</td>\n",
       "      <td>0.152</td>\n",
       "      <td>0.033</td>\n",
       "    </tr>\n",
       "    <tr>\n",
       "      <th>MLP</th>\n",
       "      <td>0.033</td>\n",
       "      <td>0.640</td>\n",
       "      <td>0.028</td>\n",
       "      <td>0.002</td>\n",
       "    </tr>\n",
       "    <tr>\n",
       "      <th>DeepCNN</th>\n",
       "      <td>0.618</td>\n",
       "      <td>NaN</td>\n",
       "      <td>NaN</td>\n",
       "      <td>NaN</td>\n",
       "    </tr>\n",
       "  </tbody>\n",
       "</table>\n",
       "</div>"
      ],
      "text/plain": [
       "           h11    h21    h31    h22\n",
       "CNN      0.702  0.632  0.152  0.033\n",
       "MLP      0.033  0.640  0.028  0.002\n",
       "DeepCNN  0.618    NaN    NaN    NaN"
      ]
     },
     "execution_count": 85,
     "metadata": {},
     "output_type": "execute_result"
    }
   ],
   "source": [
    "dataframe_result = pd.read_csv(f\"results/{config['dataset']['class_label']}_{config['dataset']['capacity']}_dataset.csv\", index_col=0)\n",
    "dataframe_result[config['dataset']['target_name']][config['model']['name']] = round(test_metrics['test_accuracy'].item(),3)\n",
    "dataframe_result.to_csv(f\"results/{config['dataset']['class_label']}_{config['dataset']['capacity']}_dataset.csv\")\n",
    "dataframe_result"
   ]
  },
  {
   "cell_type": "markdown",
   "metadata": {},
   "source": [
    "# Some waste"
   ]
  },
  {
   "cell_type": "code",
   "execution_count": 16,
   "metadata": {},
   "outputs": [],
   "source": [
    "batch = next(iter(test_dataloader))\n",
    "model_out = model(batch['matrix'].to(config['model']['device'])).squeeze(-1)\n",
    "ground_truth = batch['hodge_number'].to(config['model']['device'])"
   ]
  },
  {
   "cell_type": "code",
   "execution_count": 17,
   "metadata": {},
   "outputs": [
    {
     "data": {
      "text/plain": [
       "tensor([10., 10., 10., 10., 10., 10., 10., 10., 10., 10., 10., 10., 10., 10.],\n",
       "       device='cuda:0', grad_fn=<RoundBackward0>)"
      ]
     },
     "execution_count": 17,
     "metadata": {},
     "output_type": "execute_result"
    }
   ],
   "source": [
    "model_out[:14].round()"
   ]
  },
  {
   "cell_type": "code",
   "execution_count": 18,
   "metadata": {},
   "outputs": [
    {
     "data": {
      "text/plain": [
       "tensor([ 8., 11.,  8., 10., 14., 14., 12., 13., 10., 13.,  6.,  9., 10., 11.],\n",
       "       device='cuda:0')"
      ]
     },
     "execution_count": 18,
     "metadata": {},
     "output_type": "execute_result"
    }
   ],
   "source": [
    "ground_truth[:14]"
   ]
  },
  {
   "cell_type": "code",
   "execution_count": 19,
   "metadata": {},
   "outputs": [
    {
     "data": {
      "text/plain": [
       "(2629, 16000)"
      ]
     },
     "execution_count": 19,
     "metadata": {},
     "output_type": "execute_result"
    }
   ],
   "source": [
    "(model_out.round()==ground_truth).sum().item(), len(ground_truth)"
   ]
  },
  {
   "cell_type": "code",
   "execution_count": null,
   "metadata": {},
   "outputs": [],
   "source": []
  }
 ],
 "metadata": {
  "kernelspec": {
   "display_name": "Python 3 (ipykernel)",
   "language": "python",
   "name": "python3"
  },
  "language_info": {
   "codemirror_mode": {
    "name": "ipython",
    "version": 3
   },
   "file_extension": ".py",
   "mimetype": "text/x-python",
   "name": "python",
   "nbconvert_exporter": "python",
   "pygments_lexer": "ipython3",
   "version": "3.9.19"
  }
 },
 "nbformat": 4,
 "nbformat_minor": 4
}
