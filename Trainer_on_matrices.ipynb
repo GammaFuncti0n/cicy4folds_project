{
 "cells": [
  {
   "cell_type": "code",
   "execution_count": 1,
   "metadata": {},
   "outputs": [],
   "source": [
    "import numpy as np\n",
    "import torch\n",
    "import torch.nn as nn\n",
    "import pickle\n",
    "import pandas as pd\n",
    "\n",
    "from torch.utils.data import DataLoader\n",
    "from sklearn.model_selection import train_test_split \n",
    "from tqdm import tqdm\n",
    "from clearml import Task\n",
    "import torch.optim as optim\n",
    "\n",
    "from utils.models import CNN, MLP, DeepCNN\n",
    "from utils.train_val_test import train_epoch, test, display_losses\n",
    "from utils.dataset import MatricesDataset\n"
   ]
  },
  {
   "cell_type": "code",
   "execution_count": 2,
   "metadata": {},
   "outputs": [],
   "source": [
    "config = {\n",
    "    'dataset':{\n",
    "        'target_name': 'h31',\n",
    "        'class_label': 'original',\n",
    "        'capacity': 'full',\n",
    "        'test_size': 0.3,\n",
    "        'train_batch': 2048,\n",
    "        'validation_batch': 2048,\n",
    "        'test_batch': 2048,\n",
    "    },\n",
    "    'model':{\n",
    "        'device': 'cuda',\n",
    "        'name': 'CNN'\n",
    "    },\n",
    "    'train':{\n",
    "        'num_epochs': 30,\n",
    "        'learning_rate': 5e-3,\n",
    "        'weight_decay': 1e-5,\n",
    "    }\n",
    "}"
   ]
  },
  {
   "cell_type": "code",
   "execution_count": 3,
   "metadata": {},
   "outputs": [
    {
     "name": "stdout",
     "output_type": "stream",
     "text": [
      "ClearML Task: created new task id=0cb742bd44d84d348205bfaa95519b05\n",
      "2024-07-01 18:24:37,782 - clearml.Task - INFO - Storing jupyter notebook directly as code\n",
      "ClearML results page: https://app.clear.ml/projects/2e3a3c9f3a5d425f9af1864b8e2658f7/experiments/0cb742bd44d84d348205bfaa95519b05/output/log\n"
     ]
    },
    {
     "data": {
      "text/plain": [
       "{'dataset': {'target_name': 'h31',\n",
       "  'class_label': 'original',\n",
       "  'capacity': 'full',\n",
       "  'test_size': 0.3,\n",
       "  'train_batch': 2048,\n",
       "  'validation_batch': 2048,\n",
       "  'test_batch': 2048},\n",
       " 'model': {'device': 'cuda', 'name': 'CNN'},\n",
       " 'train': {'num_epochs': 30, 'learning_rate': 0.005, 'weight_decay': 1e-05}}"
      ]
     },
     "execution_count": 3,
     "metadata": {},
     "output_type": "execute_result"
    }
   ],
   "source": [
    "task = Task.init(project_name=\"cicy4folds\", task_name=f\"{config['dataset']['target_name']}_{config['model']['name']}_train\")\n",
    "task.connect(config, name='Train config')"
   ]
  },
  {
   "cell_type": "markdown",
   "metadata": {},
   "source": [
    "# Dataset"
   ]
  },
  {
   "cell_type": "code",
   "execution_count": 4,
   "metadata": {},
   "outputs": [],
   "source": [
    "with open('data/padded_matrices', 'rb') as f:\n",
    "    matrices = pickle.load(f)\n",
    "\n",
    "df = pd.read_csv('data/cicy4folds_extended.csv')\n",
    "df = df.replace('Null', np.nan)\n",
    "nan_indeces = df.index[df.isna().any(axis=1)].tolist()\n",
    "\n",
    "df_clear = df.drop(nan_indeces)\n",
    "matrices_clear = np.delete(matrices, nan_indeces, axis=0)\n",
    "\n",
    "assert len(df_clear)==len(matrices_clear)"
   ]
  },
  {
   "cell_type": "code",
   "execution_count": 5,
   "metadata": {},
   "outputs": [],
   "source": [
    "df_train, df_test_validate, matrices_train, matrices_test_validate = train_test_split(df_clear, matrices_clear, test_size=config['dataset']['test_size'], shuffle=True)\n",
    "df_test, df_validate, matrices_test, matrices_validate = train_test_split(df_test_validate, matrices_test_validate, test_size=config['dataset']['test_size'], shuffle=True)"
   ]
  },
  {
   "cell_type": "code",
   "execution_count": 6,
   "metadata": {},
   "outputs": [],
   "source": [
    "train_ds = MatricesDataset(df_train, matrices_train, config['dataset']['target_name'])\n",
    "validate_ds = MatricesDataset(df_validate, matrices_validate, config['dataset']['target_name'])\n",
    "test_ds = MatricesDataset(df_test, matrices_test, config['dataset']['target_name'])\n",
    "\n",
    "train_dataloader = DataLoader(train_ds, batch_size=config['dataset']['train_batch'], num_workers=4)\n",
    "test_dataloader = DataLoader(test_ds, batch_size=config['dataset']['test_batch'], num_workers=4)\n",
    "validate_dataloader = DataLoader(validate_ds, batch_size=config['dataset']['validation_batch'], num_workers=4)"
   ]
  },
  {
   "cell_type": "markdown",
   "metadata": {},
   "source": [
    "# Model"
   ]
  },
  {
   "cell_type": "code",
   "execution_count": 7,
   "metadata": {},
   "outputs": [],
   "source": [
    "if (config['model']['name']=='CNN'):\n",
    "    model = CNN().to(config['model']['device'])\n",
    "elif (config['model']['name']=='MLP'):\n",
    "    #model = MLP(model_config).to(config['model']['device'])\n",
    "    pass\n",
    "elif (config['model']['name']=='DeepCNN'):\n",
    "    model = DeepCNN().to(config['model']['device'])\n",
    "else:\n",
    "    raise NameError(f\"There isn't model with name {config['model']['name']}\")\n",
    "\n",
    "criterion = nn.MSELoss()\n",
    "optimizer = optim.NAdam(model.parameters(), lr=config['train']['learning_rate'], weight_decay=config['train']['weight_decay'])"
   ]
  },
  {
   "cell_type": "code",
   "execution_count": 7,
   "metadata": {},
   "outputs": [
    {
     "name": "stdout",
     "output_type": "stream",
     "text": [
      "<All keys matched successfully>\n"
     ]
    }
   ],
   "source": [
    "try:\n",
    "    model.load_state_dict(torch.load(f\"models/{config['model']['name']}_for_{config['dataset']['target_name']}.pth\"))\n",
    "    print('<All keys matched successfully>')\n",
    "except:\n",
    "    print(\"There isn't weights\")"
   ]
  },
  {
   "cell_type": "code",
   "execution_count": 8,
   "metadata": {},
   "outputs": [
    {
     "name": "stderr",
     "output_type": "stream",
     "text": [
      "  0%|          | 0/30 [00:00<?, ?it/s]"
     ]
    },
    {
     "name": "stdout",
     "output_type": "stream",
     "text": [
      "1: loss on train: 185.9107, loss on validation: 131.7812\n",
      "2024-07-01 18:26:10,249 - clearml.frameworks - INFO - Found existing registered model id=ddc782493a764b24978eac142d186465 [d:\\Study\\Skoltech\\Master's thesis\\cicy4folds_project\\models\\CNN_for_h31.pth] reusing it.\n"
     ]
    },
    {
     "name": "stderr",
     "output_type": "stream",
     "text": [
      "  3%|▎         | 1/30 [01:00<29:18, 60.64s/it]"
     ]
    },
    {
     "name": "stdout",
     "output_type": "stream",
     "text": [
      "2: loss on train: 110.2991, loss on validation: 83.3068\n"
     ]
    },
    {
     "name": "stderr",
     "output_type": "stream",
     "text": [
      "  7%|▋         | 2/30 [01:55<26:50, 57.50s/it]"
     ]
    },
    {
     "name": "stdout",
     "output_type": "stream",
     "text": [
      "3: loss on train: 85.1636, loss on validation: 67.4275\n"
     ]
    },
    {
     "name": "stderr",
     "output_type": "stream",
     "text": [
      " 10%|█         | 3/30 [02:52<25:38, 56.99s/it]"
     ]
    },
    {
     "name": "stdout",
     "output_type": "stream",
     "text": [
      "4: loss on train: 65.9374, loss on validation: 53.1829\n"
     ]
    },
    {
     "name": "stderr",
     "output_type": "stream",
     "text": [
      " 13%|█▎        | 4/30 [03:48<24:33, 56.66s/it]"
     ]
    },
    {
     "name": "stdout",
     "output_type": "stream",
     "text": [
      "5: loss on train: 55.5169, loss on validation: 45.2378\n"
     ]
    },
    {
     "name": "stderr",
     "output_type": "stream",
     "text": [
      " 17%|█▋        | 5/30 [04:44<23:26, 56.27s/it]"
     ]
    },
    {
     "name": "stdout",
     "output_type": "stream",
     "text": [
      "6: loss on train: 48.3964, loss on validation: 40.2686\n"
     ]
    },
    {
     "name": "stderr",
     "output_type": "stream",
     "text": [
      " 20%|██        | 6/30 [05:42<22:47, 56.97s/it]"
     ]
    },
    {
     "name": "stdout",
     "output_type": "stream",
     "text": [
      "7: loss on train: 43.2938, loss on validation: 36.6856\n"
     ]
    },
    {
     "name": "stderr",
     "output_type": "stream",
     "text": [
      " 23%|██▎       | 7/30 [06:39<21:47, 56.85s/it]"
     ]
    },
    {
     "name": "stdout",
     "output_type": "stream",
     "text": [
      "8: loss on train: 39.3692, loss on validation: 33.9458\n"
     ]
    },
    {
     "name": "stderr",
     "output_type": "stream",
     "text": [
      " 30%|███       | 9/30 [08:15<18:06, 51.73s/it]"
     ]
    },
    {
     "name": "stdout",
     "output_type": "stream",
     "text": [
      "9: loss on train: 36.5664, loss on validation: 36.0206\n",
      "10: loss on train: 33.7701, loss on validation: 32.5509\n"
     ]
    },
    {
     "name": "stderr",
     "output_type": "stream",
     "text": [
      " 33%|███▎      | 10/30 [09:10<17:32, 52.62s/it]"
     ]
    },
    {
     "name": "stdout",
     "output_type": "stream",
     "text": [
      "11: loss on train: 31.5911, loss on validation: 31.6340\n"
     ]
    },
    {
     "name": "stderr",
     "output_type": "stream",
     "text": [
      " 37%|███▋      | 11/30 [10:04<16:49, 53.14s/it]"
     ]
    },
    {
     "name": "stdout",
     "output_type": "stream",
     "text": [
      "12: loss on train: 29.4380, loss on validation: 28.7493\n"
     ]
    },
    {
     "name": "stderr",
     "output_type": "stream",
     "text": [
      " 40%|████      | 12/30 [10:59<16:07, 53.73s/it]"
     ]
    },
    {
     "name": "stdout",
     "output_type": "stream",
     "text": [
      "13: loss on train: 27.9003, loss on validation: 27.6613\n"
     ]
    },
    {
     "name": "stderr",
     "output_type": "stream",
     "text": [
      " 43%|████▎     | 13/30 [11:53<15:14, 53.77s/it]"
     ]
    },
    {
     "name": "stdout",
     "output_type": "stream",
     "text": [
      "14: loss on train: 25.8502, loss on validation: 26.3678\n"
     ]
    },
    {
     "name": "stderr",
     "output_type": "stream",
     "text": [
      " 47%|████▋     | 14/30 [12:47<14:19, 53.74s/it]"
     ]
    },
    {
     "name": "stdout",
     "output_type": "stream",
     "text": [
      "15: loss on train: 24.2436, loss on validation: 23.5169\n"
     ]
    },
    {
     "name": "stderr",
     "output_type": "stream",
     "text": [
      " 53%|█████▎    | 16/30 [14:26<11:53, 50.97s/it]"
     ]
    },
    {
     "name": "stdout",
     "output_type": "stream",
     "text": [
      "16: loss on train: 22.8233, loss on validation: 24.0725\n",
      "17: loss on train: 21.9852, loss on validation: 22.0625\n"
     ]
    },
    {
     "name": "stderr",
     "output_type": "stream",
     "text": [
      " 57%|█████▋    | 17/30 [15:23<11:24, 52.65s/it]"
     ]
    },
    {
     "name": "stdout",
     "output_type": "stream",
     "text": [
      "18: loss on train: 20.5386, loss on validation: 20.8769\n"
     ]
    },
    {
     "name": "stderr",
     "output_type": "stream",
     "text": [
      " 60%|██████    | 18/30 [16:19<10:44, 53.71s/it]"
     ]
    },
    {
     "name": "stdout",
     "output_type": "stream",
     "text": [
      "19: loss on train: 19.6373, loss on validation: 20.4218\n"
     ]
    },
    {
     "name": "stderr",
     "output_type": "stream",
     "text": [
      " 63%|██████▎   | 19/30 [17:15<10:00, 54.56s/it]"
     ]
    },
    {
     "name": "stdout",
     "output_type": "stream",
     "text": [
      "20: loss on train: 18.9114, loss on validation: 19.5967\n"
     ]
    },
    {
     "name": "stderr",
     "output_type": "stream",
     "text": [
      " 67%|██████▋   | 20/30 [18:11<09:09, 54.99s/it]"
     ]
    },
    {
     "name": "stdout",
     "output_type": "stream",
     "text": [
      "21: loss on train: 18.0407, loss on validation: 19.2086\n"
     ]
    },
    {
     "name": "stderr",
     "output_type": "stream",
     "text": [
      " 70%|███████   | 21/30 [19:08<08:18, 55.42s/it]"
     ]
    },
    {
     "name": "stdout",
     "output_type": "stream",
     "text": [
      "22: loss on train: 17.3690, loss on validation: 17.9474\n"
     ]
    },
    {
     "name": "stderr",
     "output_type": "stream",
     "text": [
      " 73%|███████▎  | 22/30 [20:05<07:27, 55.92s/it]"
     ]
    },
    {
     "name": "stdout",
     "output_type": "stream",
     "text": [
      "23: loss on train: 16.6912, loss on validation: 17.8397\n"
     ]
    },
    {
     "name": "stderr",
     "output_type": "stream",
     "text": [
      " 77%|███████▋  | 23/30 [21:02<06:33, 56.21s/it]"
     ]
    },
    {
     "name": "stdout",
     "output_type": "stream",
     "text": [
      "24: loss on train: 16.0838, loss on validation: 16.8085\n"
     ]
    },
    {
     "name": "stderr",
     "output_type": "stream",
     "text": [
      " 80%|████████  | 24/30 [21:59<05:38, 56.37s/it]"
     ]
    },
    {
     "name": "stdout",
     "output_type": "stream",
     "text": [
      "25: loss on train: 15.6434, loss on validation: 15.6092\n"
     ]
    },
    {
     "name": "stderr",
     "output_type": "stream",
     "text": [
      " 87%|████████▋ | 26/30 [23:48<03:40, 55.24s/it]"
     ]
    },
    {
     "name": "stdout",
     "output_type": "stream",
     "text": [
      "26: loss on train: 14.9947, loss on validation: 16.6585\n",
      "27: loss on train: 14.6452, loss on validation: 15.0459\n"
     ]
    },
    {
     "name": "stderr",
     "output_type": "stream",
     "text": [
      " 93%|█████████▎| 28/30 [25:36<01:47, 53.59s/it]"
     ]
    },
    {
     "name": "stdout",
     "output_type": "stream",
     "text": [
      "28: loss on train: 14.1300, loss on validation: 15.4590\n",
      "29: loss on train: 13.7914, loss on validation: 14.2871\n"
     ]
    },
    {
     "name": "stderr",
     "output_type": "stream",
     "text": [
      "100%|██████████| 30/30 [27:13<00:00, 54.44s/it]"
     ]
    },
    {
     "name": "stdout",
     "output_type": "stream",
     "text": [
      "30: loss on train: 13.1916, loss on validation: 15.6162\n"
     ]
    },
    {
     "name": "stderr",
     "output_type": "stream",
     "text": [
      "\n"
     ]
    }
   ],
   "source": [
    "train_loss = []\n",
    "val_loss = []\n",
    "min_val_loss = np.inf\n",
    "for epoch in tqdm(range(config['train']['num_epochs'])):\n",
    "    losses = train_epoch(model, optimizer, criterion, train_dataloader, validate_dataloader, config)\n",
    "    print(f\"{epoch+1}: loss on train: {losses['train_loss']:.4f}, loss on validation: {losses['validation_loss']:.4f}\")\n",
    "    train_loss.append(losses['train_loss'])\n",
    "    val_loss.append(losses['validation_loss'])\n",
    "    if(losses['validation_loss'] < min_val_loss):\n",
    "        min_val_loss = losses['validation_loss']\n",
    "        torch.save(model.state_dict(), f\"models/{config['model']['name']}_for_{config['dataset']['target_name']}.pth\")\n",
    "\n",
    "    task.get_logger().report_scalar(title=\"Loss\", series=\"train loss\", iteration=(epoch+1), value=losses['train_loss'])\n",
    "    task.get_logger().report_scalar(title=\"Loss\", series=\"validation loss\", iteration=(epoch+1), value=losses['validation_loss'])"
   ]
  },
  {
   "cell_type": "code",
   "execution_count": 9,
   "metadata": {},
   "outputs": [
    {
     "data": {
      "image/png": "[encoded data removed]",
      "text/plain": [
       "<Figure size 640x480 with 1 Axes>"
      ]
     },
     "metadata": {},
     "output_type": "display_data"
    }
   ],
   "source": [
    "display_losses(train_loss, val_loss, config)"
   ]
  },
  {
   "cell_type": "markdown",
   "metadata": {},
   "source": [
    "# Evaluation"
   ]
  },
  {
   "cell_type": "code",
   "execution_count": 10,
   "metadata": {},
   "outputs": [
    {
     "data": {
      "text/plain": [
       "<All keys matched successfully>"
      ]
     },
     "execution_count": 10,
     "metadata": {},
     "output_type": "execute_result"
    }
   ],
   "source": [
    "model.load_state_dict(torch.load(f\"models/{config['model']['name']}_for_{config['dataset']['target_name']}.pth\"))"
   ]
  },
  {
   "cell_type": "code",
   "execution_count": 11,
   "metadata": {},
   "outputs": [
    {
     "name": "stderr",
     "output_type": "stream",
     "text": [
      "100%|██████████| 93/93 [00:15<00:00,  6.03it/s]\n",
      "C:\\Users\\User\\AppData\\Roaming\\Python\\Python311\\site-packages\\sklearn\\metrics\\_classification.py:2458: UserWarning:\n",
      "\n",
      "y_pred contains classes not in y_true\n",
      "\n"
     ]
    },
    {
     "name": "stdout",
     "output_type": "stream",
     "text": [
      "loss on test: 14.094, accuracy on test: 16.81%, mse on test: 14.095\n"
     ]
    },
    {
     "name": "stderr",
     "output_type": "stream",
     "text": [
      "C:\\Users\\User\\AppData\\Roaming\\Python\\Python311\\site-packages\\sklearn\\metrics\\_classification.py:1509: UndefinedMetricWarning:\n",
      "\n",
      "Precision is ill-defined and being set to 0.0 in labels with no predicted samples. Use `zero_division` parameter to control this behavior.\n",
      "\n",
      "C:\\Users\\User\\AppData\\Roaming\\Python\\Python311\\site-packages\\sklearn\\metrics\\_classification.py:1509: UndefinedMetricWarning:\n",
      "\n",
      "Recall is ill-defined and being set to 0.0 in labels with no true samples. Use `zero_division` parameter to control this behavior.\n",
      "\n"
     ]
    }
   ],
   "source": [
    "test_metrics = test(model, criterion, test_dataloader, config)\n",
    "print(f\"loss on test: {test_metrics['test_loss']:.3f}, accuracy on test: {test_metrics['test_accuracy']*100:.2f}%, mse on test: {test_metrics['test_mse']:.3f}\")\n",
    "test_metrics = pd.DataFrame(test_metrics, index=[f\"{config['dataset']['target_name']}_{config['model']['name']}\"])"
   ]
  },
  {
   "cell_type": "code",
   "execution_count": 12,
   "metadata": {},
   "outputs": [],
   "source": [
    "#new_dataframe_result = pd.DataFrame(columns=['h11', 'h21', 'h31', 'h22'], index=['CNN', 'MLP', 'DeepCNN'])\n",
    "#dataframe_result.to_csv(f\"results/{config['dataset']['class_label']}_{config['dataset']['capacity']}_dataset.csv\")"
   ]
  },
  {
   "cell_type": "code",
   "execution_count": 13,
   "metadata": {},
   "outputs": [
    {
     "data": {
      "text/html": [
       "<div>\n",
       "<style scoped>\n",
       "    .dataframe tbody tr th:only-of-type {\n",
       "        vertical-align: middle;\n",
       "    }\n",
       "\n",
       "    .dataframe tbody tr th {\n",
       "        vertical-align: top;\n",
       "    }\n",
       "\n",
       "    .dataframe thead th {\n",
       "        text-align: right;\n",
       "    }\n",
       "</style>\n",
       "<table border=\"1\" class=\"dataframe\">\n",
       "  <thead>\n",
       "    <tr style=\"text-align: right;\">\n",
       "      <th></th>\n",
       "      <th>h11</th>\n",
       "      <th>h21</th>\n",
       "      <th>h31</th>\n",
       "      <th>h22</th>\n",
       "    </tr>\n",
       "  </thead>\n",
       "  <tbody>\n",
       "    <tr>\n",
       "      <th>CNN</th>\n",
       "      <td>0.852</td>\n",
       "      <td>0.648</td>\n",
       "      <td>0.168</td>\n",
       "      <td>0.033</td>\n",
       "    </tr>\n",
       "    <tr>\n",
       "      <th>MLP</th>\n",
       "      <td>0.033</td>\n",
       "      <td>0.640</td>\n",
       "      <td>0.028</td>\n",
       "      <td>0.002</td>\n",
       "    </tr>\n",
       "    <tr>\n",
       "      <th>DeepCNN</th>\n",
       "      <td>0.884</td>\n",
       "      <td>0.730</td>\n",
       "      <td>0.280</td>\n",
       "      <td>0.057</td>\n",
       "    </tr>\n",
       "  </tbody>\n",
       "</table>\n",
       "</div>"
      ],
      "text/plain": [
       "           h11    h21    h31    h22\n",
       "CNN      0.852  0.648  0.168  0.033\n",
       "MLP      0.033  0.640  0.028  0.002\n",
       "DeepCNN  0.884  0.730  0.280  0.057"
      ]
     },
     "execution_count": 13,
     "metadata": {},
     "output_type": "execute_result"
    }
   ],
   "source": [
    "dataframe_result = pd.read_csv(f\"results/{config['dataset']['class_label']}_{config['dataset']['capacity']}_dataset.csv\", index_col=0)\n",
    "dataframe_result[config['dataset']['target_name']][config['model']['name']] = round(test_metrics['test_accuracy'].item(),3)\n",
    "dataframe_result.to_csv(f\"results/{config['dataset']['class_label']}_{config['dataset']['capacity']}_dataset.csv\")\n",
    "dataframe_result"
   ]
  },
  {
   "cell_type": "code",
   "execution_count": 14,
   "metadata": {},
   "outputs": [],
   "source": [
    "task.get_logger().report_table(title='Metrics table', series='pandas DataFrame', iteration=0, table_plot=test_metrics)"
   ]
  },
  {
   "cell_type": "code",
   "execution_count": 15,
   "metadata": {},
   "outputs": [],
   "source": [
    "task.close()"
   ]
  },
  {
   "cell_type": "markdown",
   "metadata": {},
   "source": [
    "# Some waste"
   ]
  },
  {
   "cell_type": "code",
   "execution_count": 9,
   "metadata": {},
   "outputs": [],
   "source": [
    "batch = next(iter(test_dataloader))\n",
    "model_out = model(batch['matrix'].to(config['model']['device'])).squeeze(-1)\n",
    "ground_truth = batch['hodge_number'].to(config['model']['device'])"
   ]
  },
  {
   "cell_type": "code",
   "execution_count": 10,
   "metadata": {},
   "outputs": [
    {
     "data": {
      "text/plain": [
       "tensor([5., 0., 0., 1., 0., 0., 0., 2., 0., 1., 0., 1., 0., 0.],\n",
       "       device='cuda:0', grad_fn=<RoundBackward0>)"
      ]
     },
     "execution_count": 10,
     "metadata": {},
     "output_type": "execute_result"
    }
   ],
   "source": [
    "model_out[:14].round()"
   ]
  },
  {
   "cell_type": "code",
   "execution_count": 11,
   "metadata": {},
   "outputs": [
    {
     "data": {
      "text/plain": [
       "tensor([4., 0., 0., 2., 0., 0., 0., 3., 0., 0., 6., 1., 0., 0.],\n",
       "       device='cuda:0')"
      ]
     },
     "execution_count": 11,
     "metadata": {},
     "output_type": "execute_result"
    }
   ],
   "source": [
    "ground_truth[:14]"
   ]
  },
  {
   "cell_type": "code",
   "execution_count": 12,
   "metadata": {},
   "outputs": [
    {
     "data": {
      "text/plain": [
       "(660, 1024)"
      ]
     },
     "execution_count": 12,
     "metadata": {},
     "output_type": "execute_result"
    }
   ],
   "source": [
    "(model_out.round()==ground_truth).sum().item(), len(ground_truth)"
   ]
  },
  {
   "cell_type": "code",
   "execution_count": null,
   "metadata": {},
   "outputs": [],
   "source": []
  }
 ],
 "metadata": {
  "kernelspec": {
   "display_name": "Python 3 (ipykernel)",
   "language": "python",
   "name": "python3"
  },
  "language_info": {
   "codemirror_mode": {
    "name": "ipython",
    "version": 3
   },
   "file_extension": ".py",
   "mimetype": "text/x-python",
   "name": "python",
   "nbconvert_exporter": "python",
   "pygments_lexer": "ipython3",
   "version": "3.11.5"
  }
 },
 "nbformat": 4,
 "nbformat_minor": 4
}
